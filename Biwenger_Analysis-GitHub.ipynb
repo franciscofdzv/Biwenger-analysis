{
 "cells": [
  {
   "cell_type": "markdown",
   "id": "094df358",
   "metadata": {},
   "source": [
    "# BIWENGER ANALYSIS"
   ]
  },
  {
   "cell_type": "markdown",
   "id": "1a47caff",
   "metadata": {},
   "source": [
    "This script obtains the data from Biwenger and analyzes different features that could be useful to become better at this fantasy game. For example, the posibilities of one player to be on the starting eleven, the chances of getting certain players on a pack..."
   ]
  },
  {
   "cell_type": "markdown",
   "id": "10cdb301",
   "metadata": {},
   "source": [
    "## Data Extraction"
   ]
  },
  {
   "cell_type": "markdown",
   "id": "1004f404",
   "metadata": {},
   "source": [
    "The data is extracted from the Biwenger website JSON, extracting, in this case, the information of LaLiga, the competition under study on this Notebook"
   ]
  },
  {
   "cell_type": "code",
   "execution_count": 69,
   "id": "d548fef2",
   "metadata": {
    "ExecuteTime": {
     "end_time": "2023-02-07T16:59:44.050869Z",
     "start_time": "2023-02-07T16:59:43.780207Z"
    }
   },
   "outputs": [
    {
     "data": {
      "text/html": [
       "<div>\n",
       "<style scoped>\n",
       "    .dataframe tbody tr th:only-of-type {\n",
       "        vertical-align: middle;\n",
       "    }\n",
       "\n",
       "    .dataframe tbody tr th {\n",
       "        vertical-align: top;\n",
       "    }\n",
       "\n",
       "    .dataframe thead th {\n",
       "        text-align: right;\n",
       "    }\n",
       "</style>\n",
       "<table border=\"1\" class=\"dataframe\">\n",
       "  <thead>\n",
       "    <tr style=\"text-align: right;\">\n",
       "      <th></th>\n",
       "      <th>id</th>\n",
       "      <th>name</th>\n",
       "      <th>slug</th>\n",
       "      <th>teamID</th>\n",
       "      <th>position</th>\n",
       "      <th>price</th>\n",
       "      <th>fantasyPrice</th>\n",
       "      <th>status</th>\n",
       "      <th>priceIncrement</th>\n",
       "      <th>playedHome</th>\n",
       "      <th>playedAway</th>\n",
       "      <th>fitness</th>\n",
       "      <th>points</th>\n",
       "      <th>pointsHome</th>\n",
       "      <th>pointsAway</th>\n",
       "      <th>pointsLastSeason</th>\n",
       "      <th>statusInfo</th>\n",
       "    </tr>\n",
       "  </thead>\n",
       "  <tbody>\n",
       "    <tr>\n",
       "      <th>24</th>\n",
       "      <td>15466</td>\n",
       "      <td>Álex Centelles</td>\n",
       "      <td>alex-centelles</td>\n",
       "      <td>22.0</td>\n",
       "      <td>2</td>\n",
       "      <td>170000</td>\n",
       "      <td>9000000</td>\n",
       "      <td>ok</td>\n",
       "      <td>0</td>\n",
       "      <td>0</td>\n",
       "      <td>1</td>\n",
       "      <td>[None, None, None, None, None]</td>\n",
       "      <td>-3</td>\n",
       "      <td>0</td>\n",
       "      <td>-3</td>\n",
       "      <td>NaN</td>\n",
       "      <td>NaN</td>\n",
       "    </tr>\n",
       "    <tr>\n",
       "      <th>424</th>\n",
       "      <td>29637</td>\n",
       "      <td>Pierre-Gabriel</td>\n",
       "      <td>r-pierre-gabriel</td>\n",
       "      <td>7.0</td>\n",
       "      <td>2</td>\n",
       "      <td>490000</td>\n",
       "      <td>10000000</td>\n",
       "      <td>sanctioned</td>\n",
       "      <td>-20000</td>\n",
       "      <td>1</td>\n",
       "      <td>0</td>\n",
       "      <td>[-3, None, None, None, None]</td>\n",
       "      <td>-3</td>\n",
       "      <td>-3</td>\n",
       "      <td>0</td>\n",
       "      <td>NaN</td>\n",
       "      <td>Double yellow card</td>\n",
       "    </tr>\n",
       "    <tr>\n",
       "      <th>131</th>\n",
       "      <td>6021</td>\n",
       "      <td>Diego López</td>\n",
       "      <td>diego-lopez</td>\n",
       "      <td>70.0</td>\n",
       "      <td>1</td>\n",
       "      <td>290000</td>\n",
       "      <td>20000000</td>\n",
       "      <td>ok</td>\n",
       "      <td>-10000</td>\n",
       "      <td>0</td>\n",
       "      <td>1</td>\n",
       "      <td>[None, None, None, None, None]</td>\n",
       "      <td>-3</td>\n",
       "      <td>0</td>\n",
       "      <td>-3</td>\n",
       "      <td>176.0</td>\n",
       "      <td>NaN</td>\n",
       "    </tr>\n",
       "    <tr>\n",
       "      <th>252</th>\n",
       "      <td>23809</td>\n",
       "      <td>John Donald</td>\n",
       "      <td>john-donald</td>\n",
       "      <td>75.0</td>\n",
       "      <td>3</td>\n",
       "      <td>150000</td>\n",
       "      <td>7000000</td>\n",
       "      <td>injured</td>\n",
       "      <td>0</td>\n",
       "      <td>1</td>\n",
       "      <td>2</td>\n",
       "      <td>[injured, injured, injured, injured, injured]</td>\n",
       "      <td>-1</td>\n",
       "      <td>3</td>\n",
       "      <td>-4</td>\n",
       "      <td>11.0</td>\n",
       "      <td>Fracture of the fibula.</td>\n",
       "    </tr>\n",
       "    <tr>\n",
       "      <th>0</th>\n",
       "      <td>29673</td>\n",
       "      <td>Alexander Callens</td>\n",
       "      <td>a-callens</td>\n",
       "      <td>289.0</td>\n",
       "      <td>2</td>\n",
       "      <td>1830000</td>\n",
       "      <td>15000000</td>\n",
       "      <td>ok</td>\n",
       "      <td>-150000</td>\n",
       "      <td>0</td>\n",
       "      <td>0</td>\n",
       "      <td>[None, None, None, None, None]</td>\n",
       "      <td>0</td>\n",
       "      <td>0</td>\n",
       "      <td>0</td>\n",
       "      <td>NaN</td>\n",
       "      <td>NaN</td>\n",
       "    </tr>\n",
       "  </tbody>\n",
       "</table>\n",
       "</div>"
      ],
      "text/plain": [
       "        id               name              slug  teamID  position    price  \\\n",
       "24   15466     Álex Centelles    alex-centelles    22.0         2   170000   \n",
       "424  29637     Pierre-Gabriel  r-pierre-gabriel     7.0         2   490000   \n",
       "131   6021        Diego López       diego-lopez    70.0         1   290000   \n",
       "252  23809        John Donald       john-donald    75.0         3   150000   \n",
       "0    29673  Alexander Callens         a-callens   289.0         2  1830000   \n",
       "\n",
       "     fantasyPrice      status  priceIncrement  playedHome  playedAway  \\\n",
       "24        9000000          ok               0           0           1   \n",
       "424      10000000  sanctioned          -20000           1           0   \n",
       "131      20000000          ok          -10000           0           1   \n",
       "252       7000000     injured               0           1           2   \n",
       "0        15000000          ok         -150000           0           0   \n",
       "\n",
       "                                           fitness  points  pointsHome  \\\n",
       "24                  [None, None, None, None, None]      -3           0   \n",
       "424                   [-3, None, None, None, None]      -3          -3   \n",
       "131                 [None, None, None, None, None]      -3           0   \n",
       "252  [injured, injured, injured, injured, injured]      -1           3   \n",
       "0                   [None, None, None, None, None]       0           0   \n",
       "\n",
       "     pointsAway  pointsLastSeason               statusInfo  \n",
       "24           -3               NaN                      NaN  \n",
       "424           0               NaN       Double yellow card  \n",
       "131          -3             176.0                      NaN  \n",
       "252          -4              11.0  Fracture of the fibula.  \n",
       "0             0               NaN                      NaN  "
      ]
     },
     "execution_count": 69,
     "metadata": {},
     "output_type": "execute_result"
    }
   ],
   "source": [
    "import requests\n",
    "import csv\n",
    "import pandas as pd\n",
    "import numpy as np\n",
    "\n",
    "#Obataining the Biwenger json\n",
    "\n",
    "#Modified:\n",
    "#Change url for as+sofascore points\n",
    "#r = requests.get(\n",
    "#    \"https://cf.biwenger.com/api/v2/competitions/la-liga/data?lang=en&score=1\").json()\n",
    "\n",
    "r = requests.get(\n",
    "    \"https://cf.biwenger.com/api/v2/competitions/la-liga/data?lang=en&score=5\").json()\n",
    "\n",
    "\n",
    "#Extracting the players data and storing it as csv\n",
    "\n",
    "data = []\n",
    "for k, v in r['data']['players'].items():\n",
    "    data.append(v)\n",
    "\n",
    "with open('output.csv', 'w', newline=\"\", encoding=\"UTF-8\") as f:\n",
    "    writer = csv.writer(f)\n",
    "    writer.writerow(v.keys())\n",
    "    writer.writerows(data)\n",
    "    \n",
    "df = pd.DataFrame(data)\n",
    "df = df.sort_values(by=['points'])\n",
    "df.head()"
   ]
  },
  {
   "cell_type": "markdown",
   "id": "3e419cdd",
   "metadata": {},
   "source": [
    "## New:\n",
    "### Save data to out.csv"
   ]
  },
  {
   "cell_type": "code",
   "execution_count": 7,
   "id": "126a5415",
   "metadata": {
    "ExecuteTime": {
     "end_time": "2023-02-07T15:27:30.468839Z",
     "start_time": "2023-02-07T15:27:30.437958Z"
    }
   },
   "outputs": [],
   "source": [
    "compression_opts = dict(method='zip', archive_name='out.csv')  \n",
    "df.to_csv('out.zip', index=False, compression=compression_opts)  "
   ]
  },
  {
   "cell_type": "markdown",
   "id": "1dbbf6cb",
   "metadata": {},
   "source": [
    "## Cost of Point Evaluation"
   ]
  },
  {
   "cell_type": "markdown",
   "id": "868d296b",
   "metadata": {},
   "source": [
    "Two models are created for this evaluation, one linear regression, and a grade 2 polynomial regression. As we can observe, the second degree polynomial regression fits the data a lot better than the linear one. \n",
    "The possible explanation to this would be that on the fantasy game only 11 players are allowed each matchday, so the price players which generate a large amount of points tend to increase on a non-linear way."
   ]
  },
  {
   "cell_type": "code",
   "execution_count": 59,
   "id": "983359ef",
   "metadata": {
    "ExecuteTime": {
     "end_time": "2023-02-07T16:45:02.675953Z",
     "start_time": "2023-02-07T16:45:02.661810Z"
    }
   },
   "outputs": [],
   "source": [
    "from sklearn.model_selection import train_test_split\n",
    "from sklearn.linear_model import LinearRegression\n",
    "\n",
    "#Linear Regression\n",
    "\n",
    "X = df.loc[:, ['points']].values\n",
    "\n",
    "y = df.loc[:, 'price'].values\n",
    "\n",
    "model = LinearRegression(fit_intercept = True);\n",
    "model.fit(X,y);"
   ]
  },
  {
   "cell_type": "code",
   "execution_count": 60,
   "id": "998237aa",
   "metadata": {
    "ExecuteTime": {
     "end_time": "2023-02-07T16:45:05.440461Z",
     "start_time": "2023-02-07T16:45:05.424465Z"
    }
   },
   "outputs": [],
   "source": [
    "from sklearn.preprocessing import PolynomialFeatures\n",
    "\n",
    "#Polynomical Regression\n",
    "\n",
    "poly=PolynomialFeatures(degree=2,\n",
    "                           include_bias = False)\n",
    "X_poly=poly.fit_transform(X.reshape(-1,1))\n",
    "model2 = LinearRegression();\n",
    "model2.fit(X_poly, y);"
   ]
  },
  {
   "cell_type": "code",
   "execution_count": 61,
   "id": "5444a38a",
   "metadata": {
    "ExecuteTime": {
     "end_time": "2023-02-07T16:45:08.543260Z",
     "start_time": "2023-02-07T16:45:08.080586Z"
    }
   },
   "outputs": [
    {
     "data": {
      "image/png": "[encoded data removed]",
      "text/plain": [
       "<Figure size 1000x700 with 1 Axes>"
      ]
     },
     "metadata": {},
     "output_type": "display_data"
    }
   ],
   "source": [
    "import matplotlib.pyplot as plt\n",
    "\n",
    "fig, ax = plt.subplots(nrows = 1, ncols = 1, figsize = (10,7));\n",
    "ax.scatter(X,\n",
    "           y,\n",
    "           color = 'black',\n",
    "           s = 1.7,\n",
    "           alpha = 0.7);\n",
    "ax.plot(X,\n",
    "        model2.predict(X_poly),\n",
    "        color = 'red');\n",
    "\n",
    "ax.plot(X,\n",
    "       model.predict(X),\n",
    "       color = 'blue',\n",
    "       alpha = 0.4)\n",
    "ax.set_xlabel('Points',\n",
    "              fontsize = 15);\n",
    "ax.set_ylabel('Price',\n",
    "             fontsize = 15);\n",
    "ax.set_title('Cost of Point Evaluation',\n",
    "             fontsize = 20)\n",
    "fig.tight_layout()"
   ]
  },
  {
   "cell_type": "markdown",
   "id": "55abdcee",
   "metadata": {},
   "source": [
    "## Testing different methods to predict price"
   ]
  },
  {
   "cell_type": "markdown",
   "id": "df5d5d38",
   "metadata": {},
   "source": [
    "### Based on single variable (points)"
   ]
  },
  {
   "cell_type": "code",
   "execution_count": 105,
   "id": "39a622f4",
   "metadata": {
    "ExecuteTime": {
     "end_time": "2023-02-07T17:24:35.496910Z",
     "start_time": "2023-02-07T17:24:35.403693Z"
    }
   },
   "outputs": [
    {
     "name": "stdout",
     "output_type": "stream",
     "text": [
      "Test set prediction: [440000.] \n",
      " Real value: price    360000\n",
      "Name: 12, dtype: int64\n",
      "Train set R^2: 0.78\n",
      "Test set R^2: 0.66\n",
      "\n",
      "\n",
      "Parameters: [[64002.43092011]] [-708257.399441]\n",
      "Training set score: 0.53\n",
      "Test set score: 0.52\n",
      "Test set prediction example: [1211815.52816236] \n",
      " Real values: [30] [5970000]\n",
      "\n",
      "\n",
      "Parameters: [[-40959.28033772    971.0776022 ]] [931099.13388278]\n",
      "Training set score: 0.72\n",
      "Test set score: 0.73\n",
      "Test set prediction example: [576290.5657346] \n",
      " Real values: [30] [360000]\n"
     ]
    }
   ],
   "source": [
    "#Split data:\n",
    "X_train, X_test, y_train, y_test = train_test_split(df.loc[:, ['points']],df.loc[:, ['price']],random_state=0)\n",
    "\n",
    "#KNeighbors\n",
    "from sklearn.neighbors import KNeighborsRegressor\n",
    "reg = KNeighborsRegressor(n_neighbors=4).fit(X_train, y_train)\n",
    "print(\"Test set prediction:\", reg.predict(X_test)[5], \"\\n\", \"Real value:\", y_test.iloc[5])\n",
    "print(\"Train set R^2: {:.2f}\".format(reg.score(X_train, y_train)))\n",
    "print(\"Test set R^2: {:.2f}\".format(reg.score(X_test, y_test)))\n",
    "\n",
    "print(\"\\n\")\n",
    "\n",
    "#Linear regression test:\n",
    "lr=LinearRegression(fit_intercept = True).fit(X_train,y_train)\n",
    "print(\"Parameters:\", lr.coef_, lr.intercept_)\n",
    "print(\"Training set score: {:.2f}\".format(lr.score(X_train, y_train)))\n",
    "print(\"Test set score: {:.2f}\".format(lr.score(X_test, y_test)))\n",
    "print(\"Test set prediction example:\", lr.predict(X_test)[5], \"\\n\", \"Real values:\", X_test.iloc[5].values, y_test.iloc[6].values)\n",
    "\n",
    "#\n",
    "\n",
    "print(\"\\n\")\n",
    "\n",
    "#Parabolic regression test\n",
    "poly=PolynomialFeatures(degree=2, include_bias = False)\n",
    "X_poly=poly.fit_transform(X_train.values.reshape(-1,1))\n",
    "poly_reg_model = LinearRegression();\n",
    "pb=poly_reg_model.fit(X_poly,y_train)\n",
    "print(\"Parameters:\", pb.coef_, pb.intercept_)\n",
    "print(\"Training set score: {:.2f}\".format(pb.score(X_poly, y_train)))\n",
    "print(\"Test set score: {:.2f}\".format(pb.score(poly.fit_transform(X_test.values.reshape(-1,1)), y_test)))\n",
    "print(\"Test set prediction example:\", pb.predict(poly.fit_transform(X_test.values.reshape(-1,1)))[5], \"\\n\", \"Real values:\", X_test.iloc[5].values, y_test.iloc[5].values)"
   ]
  },
  {
   "cell_type": "markdown",
   "id": "f91711b2",
   "metadata": {},
   "source": [
    "### Based on multi-variable (points, matches, average, fitness results, fitness average, status)"
   ]
  },
  {
   "cell_type": "markdown",
   "id": "a50d2945",
   "metadata": {},
   "source": [
    "## Profitability based on cost of point"
   ]
  },
  {
   "cell_type": "code",
   "execution_count": 93,
   "id": "a4cab078",
   "metadata": {},
   "outputs": [
    {
     "name": "stdout",
     "output_type": "stream",
     "text": [
      "1: Berenguer\n",
      "2: Maffeo\n",
      "3: Fernando Martinez\n",
      "4: Juan Iglesias\n",
      "5: Aimar Oroz\n",
      "6: Raíllo\n",
      "7: Isi Palazón\n",
      "8: Édgar Badía\n",
      "9: Ledesma\n",
      "10: Torró\n"
     ]
    }
   ],
   "source": [
    "\n",
    "var = model2.predict(X_poly)-y\n",
    "maximum = max(var)\n",
    "minimum = min(var)\n",
    "\n",
    "df = df.assign(profitability = 2*((var-minimum)/(maximum-minimum))-1)\n",
    "df.head()\n",
    "\n",
    "best_profitability = df.sort_values(by = 'profitability',ascending = False)\n",
    "count = 1\n",
    "for i in best_profitability.head(10)['name'].values:\n",
    "    print(\"{}: {}\".format(count,i))\n",
    "    count += 1"
   ]
  },
  {
   "cell_type": "markdown",
   "id": "6113d5c2",
   "metadata": {},
   "source": [
    "## Number of Players in a Price Range"
   ]
  },
  {
   "cell_type": "markdown",
   "id": "60df1606",
   "metadata": {},
   "source": [
    "This function allows to get the % of players on a certain range of prices"
   ]
  },
  {
   "cell_type": "code",
   "execution_count": 94,
   "id": "e6ea8ed6",
   "metadata": {},
   "outputs": [],
   "source": [
    "n_players = df['price'].count()\n",
    "precios = list(df['price'])"
   ]
  },
  {
   "cell_type": "code",
   "execution_count": 95,
   "id": "82d94b19",
   "metadata": {},
   "outputs": [],
   "source": [
    "def rango_precios(a,b,precios):\n",
    "    count = 0\n",
    "    for i in range (len(precios)):\n",
    "        if precios[i]>=a and precios[i]<=b:\n",
    "            count = count + 1\n",
    "    porcentaje = (count/len(precios))*100\n",
    "    return (count, porcentaje)\n",
    "    "
   ]
  },
  {
   "cell_type": "code",
   "execution_count": 96,
   "id": "f73af2c5",
   "metadata": {},
   "outputs": [
    {
     "name": "stdout",
     "output_type": "stream",
     "text": [
      "The percentage of players on this price interval is : 24.903474903474905 %\n"
     ]
    }
   ],
   "source": [
    "porcentaje = rango_precios(150000,500000,precios)[1]\n",
    "print('The percentage of players on this price interval is :', porcentaje, '%')"
   ]
  },
  {
   "cell_type": "markdown",
   "id": "546e223c",
   "metadata": {},
   "source": [
    "## Histogram of Players in a Price Range"
   ]
  },
  {
   "cell_type": "code",
   "execution_count": 99,
   "id": "4fb1527e",
   "metadata": {},
   "outputs": [
    {
     "data": {
      "image/png": "[encoded data removed]",
      "text/plain": [
       "<Figure size 432x288 with 1 Axes>"
      ]
     },
     "metadata": {
      "needs_background": "light"
     },
     "output_type": "display_data"
    }
   ],
   "source": [
    "intervalos = range(min(precios),max(precios),500000);\n",
    "plt.hist(x=precios, bins=intervalos, color='#F2AB6D', rwidth=0.85);\n",
    "plt.title('Prices Histogram');\n",
    "plt.xlabel('Price');\n",
    "plt.ylabel('Players');"
   ]
  },
  {
   "cell_type": "markdown",
   "id": "dc95f545",
   "metadata": {},
   "source": [
    "## Players with higher price increment"
   ]
  },
  {
   "cell_type": "code",
   "execution_count": 106,
   "id": "b4f19b02",
   "metadata": {},
   "outputs": [],
   "source": [
    "delta_max=[]\n",
    "player_delta=[]\n",
    "for i in range (len(df['priceIncrement'])):\n",
    "    if df['priceIncrement'][i]>=80000:\n",
    "        delta_max.append(df['priceIncrement'][i])\n",
    "        player_delta.append(df['name'][i])\n",
    "        \n",
    "price_var = dict(zip(player_delta,delta_max))"
   ]
  },
  {
   "cell_type": "code",
   "execution_count": 108,
   "id": "9abab63d",
   "metadata": {},
   "outputs": [
    {
     "name": "stdout",
     "output_type": "stream",
     "text": [
      "Rodrygo: 160000 €/day\n",
      "Nico Williams: 150000 €/day\n",
      "Valverde: 130000 €/day\n",
      "Berenguer: 120000 €/day\n",
      "Borja Iglesias: 110000 €/day\n",
      "Christensen: 100000 €/day\n",
      "Tchouameni: 100000 €/day\n",
      "Piqué: 90000 €/day\n",
      "Brais Méndez: 80000 €/day\n",
      "Lewandowski: 80000 €/day\n"
     ]
    }
   ],
   "source": [
    "import operator\n",
    "price_var = sorted(price_var.items(),\n",
    "                   key=operator.itemgetter(1),\n",
    "                   reverse = True)\n",
    "for i, j in price_var:\n",
    "    print(\"{}: {} €/day\".format(i,j))"
   ]
  },
  {
   "cell_type": "markdown",
   "id": "b84820cd",
   "metadata": {},
   "source": [
    "## PACK PROBABILITIES"
   ]
  },
  {
   "cell_type": "markdown",
   "id": "632f55bc",
   "metadata": {},
   "source": [
    "This script calculate the probability of unpacking a player on a scpecific range of prices when buying one of the Biwenger packs."
   ]
  },
  {
   "cell_type": "markdown",
   "id": "42f93edb",
   "metadata": {},
   "source": [
    "## Bronze Pack"
   ]
  },
  {
   "cell_type": "code",
   "execution_count": 109,
   "id": "eea46dda",
   "metadata": {},
   "outputs": [
    {
     "data": {
      "text/html": [
       "<div>\n",
       "<style scoped>\n",
       "    .dataframe tbody tr th:only-of-type {\n",
       "        vertical-align: middle;\n",
       "    }\n",
       "\n",
       "    .dataframe tbody tr th {\n",
       "        vertical-align: top;\n",
       "    }\n",
       "\n",
       "    .dataframe thead th {\n",
       "        text-align: right;\n",
       "    }\n",
       "</style>\n",
       "<table border=\"1\" class=\"dataframe\">\n",
       "  <thead>\n",
       "    <tr style=\"text-align: right;\">\n",
       "      <th></th>\n",
       "      <th>0.0 - 1000000</th>\n",
       "      <th>1000000.0 - 2000000</th>\n",
       "      <th>2000000.0 - 3000000</th>\n",
       "      <th>3000000.0 - 4000000</th>\n",
       "      <th>4000000.0 - 5000000</th>\n",
       "    </tr>\n",
       "  </thead>\n",
       "  <tbody>\n",
       "    <tr>\n",
       "      <th>Probability (%)</th>\n",
       "      <td>43.722943722943725</td>\n",
       "      <td>22.727272727272727</td>\n",
       "      <td>17.532467532467532</td>\n",
       "      <td>8.441558441558442</td>\n",
       "      <td>8.225108225108226</td>\n",
       "    </tr>\n",
       "  </tbody>\n",
       "</table>\n",
       "</div>"
      ],
      "text/plain": [
       "                      0.0 - 1000000 1000000.0 - 2000000 2000000.0 - 3000000  \\\n",
       "Probability (%)  43.722943722943725  22.727272727272727  17.532467532467532   \n",
       "\n",
       "                3000000.0 - 4000000 4000000.0 - 5000000  \n",
       "Probability (%)   8.441558441558442   8.225108225108226  "
      ]
     },
     "execution_count": 109,
     "metadata": {},
     "output_type": "execute_result"
    }
   ],
   "source": [
    "probability = []\n",
    "rango = []\n",
    "n=0\n",
    "p=0\n",
    "bronze_players = rango_precios(0,5000000,precios)[0]\n",
    "for i in range (1000000,5000001,1000000):\n",
    "    z = str(i-1e6) + ' - ' + str(i)\n",
    "    rango.append(z)\n",
    "    n = rango_precios(i-1000000,i,precios)[0]\n",
    "    p = (n/bronze_players)*100\n",
    "    probability.append(p)\n",
    "\n",
    "probabilidad = dict(zip(rango,probability))\n",
    "\n",
    "keys = []\n",
    "values = []\n",
    "for key,value in probabilidad.items():\n",
    "    keys.append(str(key))\n",
    "    values.append(str(value))\n",
    "\n",
    "s= dict(zip(keys,values))\n",
    "d = pd.DataFrame(s, index = ['Probability (%)'])\n",
    "d"
   ]
  },
  {
   "cell_type": "markdown",
   "id": "8ee9b1c8",
   "metadata": {},
   "source": [
    "## Silver Pack"
   ]
  },
  {
   "cell_type": "code",
   "execution_count": 111,
   "id": "dce52a0d",
   "metadata": {
    "scrolled": true
   },
   "outputs": [
    {
     "name": "stdout",
     "output_type": "stream",
     "text": [
      "Probability of making profit:  22.727272727272727 %\n"
     ]
    },
    {
     "data": {
      "text/html": [
       "<div>\n",
       "<style scoped>\n",
       "    .dataframe tbody tr th:only-of-type {\n",
       "        vertical-align: middle;\n",
       "    }\n",
       "\n",
       "    .dataframe tbody tr th {\n",
       "        vertical-align: top;\n",
       "    }\n",
       "\n",
       "    .dataframe thead th {\n",
       "        text-align: right;\n",
       "    }\n",
       "</style>\n",
       "<table border=\"1\" class=\"dataframe\">\n",
       "  <thead>\n",
       "    <tr style=\"text-align: right;\">\n",
       "      <th></th>\n",
       "      <th>5000000.0 - 6000000</th>\n",
       "      <th>6000000.0 - 7000000</th>\n",
       "      <th>7000000.0 - 8000000</th>\n",
       "      <th>8000000.0 - 9000000</th>\n",
       "      <th>9000000.0 - 10000000</th>\n",
       "    </tr>\n",
       "  </thead>\n",
       "  <tbody>\n",
       "    <tr>\n",
       "      <th>Probability (%)</th>\n",
       "      <td>29.545454545454547</td>\n",
       "      <td>34.090909090909086</td>\n",
       "      <td>13.636363636363635</td>\n",
       "      <td>6.8181818181818175</td>\n",
       "      <td>15.909090909090908</td>\n",
       "    </tr>\n",
       "  </tbody>\n",
       "</table>\n",
       "</div>"
      ],
      "text/plain": [
       "                5000000.0 - 6000000 6000000.0 - 7000000 7000000.0 - 8000000  \\\n",
       "Probability (%)  29.545454545454547  34.090909090909086  13.636363636363635   \n",
       "\n",
       "                8000000.0 - 9000000 9000000.0 - 10000000  \n",
       "Probability (%)  6.8181818181818175   15.909090909090908  "
      ]
     },
     "execution_count": 111,
     "metadata": {},
     "output_type": "execute_result"
    }
   ],
   "source": [
    "probability = []\n",
    "rango = []\n",
    "n=0\n",
    "p=0\n",
    "silver_players = rango_precios(5000000,10000000,precios)[0]\n",
    "for i in range (6000000,10000001,1000000):\n",
    "    z = str(i-1e6) + ' - ' + str(i)\n",
    "    rango.append(z)\n",
    "    n = rango_precios(i-1000000,i,precios)[0]\n",
    "    p = (n/silver_players)*100\n",
    "    probability.append(p)\n",
    "    \n",
    "invest_recover = probability[3]+probability[4]\n",
    "print ('Probability of making profit: ',invest_recover, \"%\")\n",
    "probabilidad = dict(zip(rango,probability))\n",
    "\n",
    "keys = []\n",
    "values = []\n",
    "for key,value in probabilidad.items():\n",
    "    keys.append(str(key))\n",
    "    values.append(str(value))\n",
    "\n",
    "s= dict(zip(keys,values))\n",
    "d = pd.DataFrame(s, index = ['Probability (%)'])\n",
    "d"
   ]
  },
  {
   "cell_type": "markdown",
   "id": "a3fc0eb4",
   "metadata": {},
   "source": [
    "## Gold Pack"
   ]
  },
  {
   "cell_type": "code",
   "execution_count": 113,
   "id": "5fb26566",
   "metadata": {},
   "outputs": [
    {
     "data": {
      "text/html": [
       "<div>\n",
       "<style scoped>\n",
       "    .dataframe tbody tr th:only-of-type {\n",
       "        vertical-align: middle;\n",
       "    }\n",
       "\n",
       "    .dataframe tbody tr th {\n",
       "        vertical-align: top;\n",
       "    }\n",
       "\n",
       "    .dataframe thead th {\n",
       "        text-align: right;\n",
       "    }\n",
       "</style>\n",
       "<table border=\"1\" class=\"dataframe\">\n",
       "  <thead>\n",
       "    <tr style=\"text-align: right;\">\n",
       "      <th></th>\n",
       "      <th>5000000.0 - 6000000</th>\n",
       "      <th>6000000.0 - 7000000</th>\n",
       "      <th>7000000.0 - 8000000</th>\n",
       "      <th>8000000.0 - 9000000</th>\n",
       "      <th>9000000.0 - 10000000</th>\n",
       "      <th>10000000.0 - 11000000</th>\n",
       "      <th>11000000.0 - 12000000</th>\n",
       "      <th>12000000.0 - 13000000</th>\n",
       "      <th>13000000.0 - 14000000</th>\n",
       "      <th>14000000.0 - 15000000</th>\n",
       "      <th>15000000.0 - 16000000</th>\n",
       "      <th>16000000.0 - 17000000</th>\n",
       "      <th>17000000.0 - 18000000</th>\n",
       "      <th>18000000.0 - 19000000</th>\n",
       "      <th>19000000.0 - 20000000</th>\n",
       "      <th>20000000.0 - 21000000</th>\n",
       "      <th>21000000.0 - 22000000</th>\n",
       "      <th>22000000.0 - 23000000</th>\n",
       "      <th>23000000.0 - 24000000</th>\n",
       "      <th>24000000.0 - 25000000</th>\n",
       "    </tr>\n",
       "  </thead>\n",
       "  <tbody>\n",
       "    <tr>\n",
       "      <th>Probabilidad (%)</th>\n",
       "      <td>53.84615384615385</td>\n",
       "      <td>23.076923076923077</td>\n",
       "      <td>7.6923076923076925</td>\n",
       "      <td>15.384615384615385</td>\n",
       "      <td>7.6923076923076925</td>\n",
       "      <td>0.0</td>\n",
       "      <td>0.0</td>\n",
       "      <td>7.6923076923076925</td>\n",
       "      <td>0.0</td>\n",
       "      <td>7.6923076923076925</td>\n",
       "      <td>7.6923076923076925</td>\n",
       "      <td>0.0</td>\n",
       "      <td>0.0</td>\n",
       "      <td>7.6923076923076925</td>\n",
       "      <td>0.0</td>\n",
       "      <td>0.0</td>\n",
       "      <td>0.0</td>\n",
       "      <td>0.0</td>\n",
       "      <td>0.0</td>\n",
       "      <td>0.0</td>\n",
       "    </tr>\n",
       "  </tbody>\n",
       "</table>\n",
       "</div>"
      ],
      "text/plain": [
       "                 5000000.0 - 6000000 6000000.0 - 7000000 7000000.0 - 8000000  \\\n",
       "Probabilidad (%)   53.84615384615385  23.076923076923077  7.6923076923076925   \n",
       "\n",
       "                 8000000.0 - 9000000 9000000.0 - 10000000  \\\n",
       "Probabilidad (%)  15.384615384615385   7.6923076923076925   \n",
       "\n",
       "                 10000000.0 - 11000000 11000000.0 - 12000000  \\\n",
       "Probabilidad (%)                   0.0                   0.0   \n",
       "\n",
       "                 12000000.0 - 13000000 13000000.0 - 14000000  \\\n",
       "Probabilidad (%)    7.6923076923076925                   0.0   \n",
       "\n",
       "                 14000000.0 - 15000000 15000000.0 - 16000000  \\\n",
       "Probabilidad (%)    7.6923076923076925    7.6923076923076925   \n",
       "\n",
       "                 16000000.0 - 17000000 17000000.0 - 18000000  \\\n",
       "Probabilidad (%)                   0.0                   0.0   \n",
       "\n",
       "                 18000000.0 - 19000000 19000000.0 - 20000000  \\\n",
       "Probabilidad (%)    7.6923076923076925                   0.0   \n",
       "\n",
       "                 20000000.0 - 21000000 21000000.0 - 22000000  \\\n",
       "Probabilidad (%)                   0.0                   0.0   \n",
       "\n",
       "                 22000000.0 - 23000000 23000000.0 - 24000000  \\\n",
       "Probabilidad (%)                   0.0                   0.0   \n",
       "\n",
       "                 24000000.0 - 25000000  \n",
       "Probabilidad (%)                   0.0  "
      ]
     },
     "execution_count": 113,
     "metadata": {},
     "output_type": "execute_result"
    }
   ],
   "source": [
    "probability = []\n",
    "n=0\n",
    "p=0\n",
    "gold_players = rango_precios(10000000,30000000,precios)[0]\n",
    "for i in range (10000000,30000001,1000000):\n",
    "    z = str(i-1e6) + ' - ' + str(i)\n",
    "    rango.append(z)\n",
    "    n = rango_precios(i-1000000,i,precios)[0]\n",
    "    p = (n/gold_players)*100\n",
    "    probability.append(p)\n",
    "\n",
    "probabilidad = dict(zip(rango,probability))\n",
    "\n",
    "keys = []\n",
    "values = []\n",
    "for key,value in probabilidad.items():\n",
    "    keys.append(str(key))\n",
    "    values.append(str(value))\n",
    "\n",
    "s= dict(zip(keys,values))\n",
    "d = pd.DataFrame(s, index = ['Probabilidad (%)'])\n",
    "d"
   ]
  },
  {
   "cell_type": "markdown",
   "id": "738949f0",
   "metadata": {},
   "source": [
    "## STARTING ELEVEN CHANCES"
   ]
  },
  {
   "cell_type": "code",
   "execution_count": 114,
   "id": "cd404922",
   "metadata": {
    "scrolled": false
   },
   "outputs": [],
   "source": [
    "from bs4 import BeautifulSoup\n",
    "import urllib\n",
    "import re\n",
    "\n",
    "url = 'https://www.futbolfantasy.com/'\n",
    "html = urllib.request.urlopen(url)\n",
    "soup = BeautifulSoup(html)\n",
    "teams = soup('a',class_ ='team')\n",
    "Equipos = []\n",
    "for team in teams:\n",
    "    alt = team.get('alt')\n",
    "    if alt not in Equipos:\n",
    "        Equipos.append(alt)\n",
    "\n",
    "### START THE CRAWLER ###\n",
    "\n",
    "links=[]\n",
    "for team in teams:\n",
    "    link = team.get('href')\n",
    "    if link not in links:\n",
    "        links.append(link)\n",
    "\n",
    "\n",
    "titulares_equipos=[]\n",
    "for url2 in links:\n",
    "    html2 = urllib.request.urlopen(url2)\n",
    "    soup2 = BeautifulSoup(html2)\n",
    "    equipo = soup2('span', class_='nombre')\n",
    "    equipo = re.findall('(?<=>).*(?=<)',str(equipo))\n",
    "    jug = soup2('a', class_='juggador')\n",
    "    datos_jug=[]\n",
    "    for i in jug:\n",
    "        datos_jug.append(i.contents)\n",
    "        p = re.findall('\\d\\d%',str(i.contents))\n",
    "        n = re.findall('(?<=>).*(?=<)',str(i.contents))\n",
    "        nombres_titulares = []\n",
    "        for nombres in titulares_equipos:\n",
    "            nombres_titulares.append(nombres[0])\n",
    "        if len(n)>0:\n",
    "            if n[0] not in nombres_titulares:\n",
    "                if p != []:\n",
    "                    z = [n[0],p[0],equipo[0]]\n",
    "                    titulares_equipos.append(z)"
   ]
  },
  {
   "cell_type": "code",
   "execution_count": 122,
   "id": "77eec0fc",
   "metadata": {},
   "outputs": [
    {
     "name": "stdout",
     "output_type": "stream",
     "text": [
      "Courtois: 95%\n",
      "Valverde: 50%\n",
      "Mendy: 60%\n",
      "Kroos: 90%\n",
      "Tchouaméni: 70%\n",
      "Camavinga: 60%\n",
      "Benzema: 60%\n",
      "Alaba: 80%\n",
      "Carvajal: 70%\n",
      "Vinicius: 95%\n",
      "Militão: 80%\n",
      "Ceballos: 50%\n",
      "Rodrygo: 50%\n",
      "Nacho: 50%\n",
      "Rüdiger: 50%\n",
      "Asensio: 30%\n",
      "E. Hazard: 20%\n",
      "Lucas: 10%\n",
      "Odriozola: 10%\n"
     ]
    }
   ],
   "source": [
    "df_ff = pd.DataFrame(titulares_equipos,columns=['name','Titularidad','Equipo'])\n",
    "#Get the starting eleven chances:\n",
    "def starting_eleven(equipo):\n",
    "    for i, j, k in df_ff.get(df_ff['Equipo']==equipo).values:\n",
    "        print(\"{}: {}\".format(i,j))\n",
    "    \n",
    "starting_eleven('Real Madrid')"
   ]
  },
  {
   "cell_type": "markdown",
   "id": "0a3bf5d6",
   "metadata": {},
   "source": [
    "## API - SOFASCORE"
   ]
  },
  {
   "cell_type": "markdown",
   "id": "328daebc",
   "metadata": {},
   "source": [
    "### Sofascore Average Score"
   ]
  },
  {
   "cell_type": "code",
   "execution_count": null,
   "id": "085e69de",
   "metadata": {},
   "outputs": [],
   "source": [
    "import requests\n",
    "import json\n",
    "ids=[]\n",
    "equipo_ids=dict()\n",
    "url = \"https://sofascore.p.rapidapi.com/teams/search\"\n",
    "Sofascore=pd.DataFrame(columns=['Jugador','Media','Equipo','ID'])\n",
    "for equipo in Equipos:\n",
    "    try:\n",
    "        url = \"https://sofascore.p.rapidapi.com/teams/search\"\n",
    "        querystring = {\"name\":equipo}\n",
    "        headers = {\n",
    "            'x-rapidapi-host': \"sofascore.p.rapidapi.com\",\n",
    "            'x-rapidapi-key': \"##########################################\"\n",
    "            }\n",
    "\n",
    "        response = requests.request(\"GET\", url, headers=headers, params=querystring)\n",
    "        r=json.loads(response.text)\n",
    "\n",
    "        ids.append(r['teams'][0]['id'])\n",
    "        equipo_ids[equipo]=r['teams'][0]['id']\n",
    "\n",
    "        url = \"https://sofascore.p.rapidapi.com/teams/get-squad\"\n",
    "        for id_ in ids:\n",
    "\n",
    "            querystring = {\"teamId\":id_}\n",
    "\n",
    "            headers = {\n",
    "                'x-rapidapi-host': \"sofascore.p.rapidapi.com\",\n",
    "                'x-rapidapi-key': \"##########################################\"\n",
    "                }\n",
    "\n",
    "            response = requests.request(\"GET\", url, headers=headers, params=querystring)\n",
    "            r=json.loads(response.text)\n",
    "\n",
    "            p=r['players']\n",
    "            for i in range(len(p)):\n",
    "                idd=p[i]['player']['id']\n",
    "                player=p[i]['player']['name']\n",
    "                url = \"https://sofascore.p.rapidapi.com/players/get-last-ratings\"\n",
    "\n",
    "                querystring = {\"playerId\":idd,\"tournamentId\":\"8\",\"seasonId\":\"37223\"}\n",
    "\n",
    "                headers = {\n",
    "                    'x-rapidapi-host': \"sofascore.p.rapidapi.com\",\n",
    "                    'x-rapidapi-key': \"##########################################\"\n",
    "                    }\n",
    "\n",
    "                response = requests.request(\"GET\", url, headers=headers, params=querystring)\n",
    "                r=json.loads(response.text)\n",
    "                ratings = r['lastRatings']\n",
    "                j=0\n",
    "                rates=0\n",
    "                try:\n",
    "                    for i in range(len(ratings)):\n",
    "                        rate=ratings[i]['rating']\n",
    "                        j=j+1\n",
    "                        rates=rates+rate\n",
    "                    media=rates/j\n",
    "                    Sofascore=Sofascore.append({'Jugador':player,'Media':media,'Equipo':equipo,'ID':idd},ignore_index=True)\n",
    "                except:\n",
    "                    continue\n",
    "    except:\n",
    "        print('Error during data extraction on: ',equipo)"
   ]
  },
  {
   "cell_type": "code",
   "execution_count": null,
   "id": "ad457afe",
   "metadata": {},
   "outputs": [],
   "source": [
    "## Show the Sofascore Dataset\n",
    "Sofascore"
   ]
  }
 ],
 "metadata": {
  "kernelspec": {
   "display_name": "Python 3 (ipykernel)",
   "language": "python",
   "name": "python3"
  },
  "language_info": {
   "codemirror_mode": {
    "name": "ipython",
    "version": 3
   },
   "file_extension": ".py",
   "mimetype": "text/x-python",
   "name": "python",
   "nbconvert_exporter": "python",
   "pygments_lexer": "ipython3",
   "version": "3.9.15"
  }
 },
 "nbformat": 4,
 "nbformat_minor": 5
}
