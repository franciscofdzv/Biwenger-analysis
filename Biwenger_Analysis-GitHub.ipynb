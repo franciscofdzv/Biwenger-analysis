{
 "cells": [
  {
   "cell_type": "markdown",
   "id": "094df358",
   "metadata": {},
   "source": [
    "# ANÁLISIS DE BIWENGER"
   ]
  },
  {
   "cell_type": "markdown",
   "id": "1a47caff",
   "metadata": {},
   "source": [
    "This script obtains the data from Biwenger and analyzes different features that could be useful to become better at this fantasy game. For example, the posibilities of one player to be on the starting eleven, the chances of getting certain players on a pack..."
   ]
  },
  {
   "cell_type": "markdown",
   "id": "10cdb301",
   "metadata": {},
   "source": [
    "## Data Extraction"
   ]
  },
  {
   "cell_type": "code",
   "execution_count": null,
   "id": "d548fef2",
   "metadata": {},
   "outputs": [],
   "source": [
    "import requests\n",
    "import csv\n",
    "import pandas as pd\n",
    "\n",
    "#Obataining the Biwenger json\n",
    "\n",
    "r = requests.get(\n",
    "    \"https://cf.biwenger.com/api/v2/competitions/la-liga/data?lang=en&score=1\").json()\n",
    "\n",
    "#Extracting the players data and storing it as csv\n",
    "\n",
    "data = []\n",
    "for k, v in r['data']['players'].items():\n",
    "    data.append(v)\n",
    "\n",
    "with open('output.csv', 'w', newline=\"\", encoding=\"UTF-8\") as f:\n",
    "    writer = csv.writer(f)\n",
    "    writer.writerow(v.keys())\n",
    "    writer.writerows(data)\n",
    "    \n",
    "df = pd.DataFrame(data)"
   ]
  },
  {
   "cell_type": "code",
   "execution_count": null,
   "id": "acc5a374",
   "metadata": {},
   "outputs": [],
   "source": [
    "#Show the dataset\n",
    "df"
   ]
  },
  {
   "cell_type": "markdown",
   "id": "6113d5c2",
   "metadata": {},
   "source": [
    "## Number of Players in a Price Range"
   ]
  },
  {
   "cell_type": "code",
   "execution_count": null,
   "id": "e6ea8ed6",
   "metadata": {},
   "outputs": [],
   "source": [
    "n_players = df['price'].count()\n",
    "precios = list(df['price'])"
   ]
  },
  {
   "cell_type": "code",
   "execution_count": null,
   "id": "82d94b19",
   "metadata": {},
   "outputs": [],
   "source": [
    "def rango_precios(a,b,precios):\n",
    "    count = 0\n",
    "    for i in range (len(precios)):\n",
    "        if precios[i]>=a and precios[i]<=b:\n",
    "            count = count + 1\n",
    "    porcentaje = (count/len(precios))*100\n",
    "    return (count, porcentaje)\n",
    "    "
   ]
  },
  {
   "cell_type": "code",
   "execution_count": null,
   "id": "f73af2c5",
   "metadata": {},
   "outputs": [],
   "source": [
    "porcentaje = rango_precios(150000,500000,precios)[1]\n",
    "print('The percentage of players on this price interval is :', porcentaje, '%')"
   ]
  },
  {
   "cell_type": "markdown",
   "id": "546e223c",
   "metadata": {},
   "source": [
    "## Histogram of Players in a Price Range"
   ]
  },
  {
   "cell_type": "code",
   "execution_count": null,
   "id": "4fb1527e",
   "metadata": {},
   "outputs": [],
   "source": [
    "import matplotlib.pyplot as mp\n",
    "intervalos = range(min(precios),max(precios),500000)\n",
    "mp.hist(x=precios, bins=intervalos, color='#F2AB6D', rwidth=0.85)\n",
    "mp.title('Prices Histogram')\n",
    "mp.xlabel('Price')\n",
    "mp.ylabel('Players')"
   ]
  },
  {
   "cell_type": "markdown",
   "id": "dc95f545",
   "metadata": {},
   "source": [
    "## TOP 10 Price Increase of Players"
   ]
  },
  {
   "cell_type": "code",
   "execution_count": null,
   "id": "b4f19b02",
   "metadata": {},
   "outputs": [],
   "source": [
    "delta_max=[]\n",
    "player_delta=[]\n",
    "for i in range (len(df['priceIncrement'])):\n",
    "    if df['priceIncrement'][i]>=80000:\n",
    "        delta_max.append(df['priceIncrement'][i])\n",
    "        player_delta.append(df['name'][i])\n",
    "        \n",
    "price_var = dict(zip(player_delta,delta_max))"
   ]
  },
  {
   "cell_type": "code",
   "execution_count": null,
   "id": "9abab63d",
   "metadata": {},
   "outputs": [],
   "source": [
    "import operator\n",
    "price_var = sorted(price_var.items(), key=operator.itemgetter(1))\n",
    "price_var"
   ]
  },
  {
   "cell_type": "markdown",
   "id": "b84820cd",
   "metadata": {},
   "source": [
    "## PACK PROBABILITIES"
   ]
  },
  {
   "cell_type": "markdown",
   "id": "632f55bc",
   "metadata": {},
   "source": [
    "This script calculate the probability of unpacking a player on a scpecific range of prices when buying one of the Biwenger packs."
   ]
  },
  {
   "cell_type": "markdown",
   "id": "42f93edb",
   "metadata": {},
   "source": [
    "## Bronze Pack"
   ]
  },
  {
   "cell_type": "code",
   "execution_count": null,
   "id": "eea46dda",
   "metadata": {},
   "outputs": [],
   "source": [
    "probability = []\n",
    "rango = []\n",
    "n=0\n",
    "p=0\n",
    "bronze_players = rango_precios(0,5000000,precios)[0]\n",
    "for i in range (1000000,5000001,1000000):\n",
    "    z = str(i-1e6) + ' - ' + str(i)\n",
    "    rango.append(z)\n",
    "    n = rango_precios(i-1000000,i,precios)[0]\n",
    "    p = (n/bronze_players)*100\n",
    "    probability.append(p)\n",
    "\n",
    "probabilidad = dict(zip(rango,probability))\n",
    "\n",
    "keys = []\n",
    "values = []\n",
    "for key,value in probabilidad.items():\n",
    "    keys.append(str(key))\n",
    "    values.append(str(value))\n",
    "\n",
    "s= dict(zip(keys,values))\n",
    "d = pd.DataFrame(s, index = ['Probabilidad (%)'])\n",
    "d"
   ]
  },
  {
   "cell_type": "markdown",
   "id": "8ee9b1c8",
   "metadata": {},
   "source": [
    "## Silver Pack"
   ]
  },
  {
   "cell_type": "code",
   "execution_count": null,
   "id": "dce52a0d",
   "metadata": {
    "scrolled": true
   },
   "outputs": [],
   "source": [
    "probability = []\n",
    "rango = []\n",
    "n=0\n",
    "p=0\n",
    "silver_players = rango_precios(5000000,10000000,precios)[0]\n",
    "for i in range (6000000,10000001,1000000):\n",
    "    z = str(i-1e6) + ' - ' + str(i)\n",
    "    rango.append(z)\n",
    "    n = rango_precios(i-1000000,i,precios)[0]\n",
    "    p = (n/silver_players)*100\n",
    "    probability.append(p)\n",
    "    \n",
    "invest_recover = probability[3]+probability[4]\n",
    "print ('Las posibilidades de ganar dinero con el sobre son de: ',invest_recover)\n",
    "probabilidad = dict(zip(rango,probability))\n",
    "\n",
    "keys = []\n",
    "values = []\n",
    "for key,value in probabilidad.items():\n",
    "    keys.append(str(key))\n",
    "    values.append(str(value))\n",
    "\n",
    "s= dict(zip(keys,values))\n",
    "d = pd.DataFrame(s, index = ['Probabilidad (%)'])\n",
    "d"
   ]
  },
  {
   "cell_type": "code",
   "execution_count": null,
   "id": "c2e9f053",
   "metadata": {},
   "outputs": [],
   "source": [
    "probability"
   ]
  },
  {
   "cell_type": "markdown",
   "id": "a3fc0eb4",
   "metadata": {},
   "source": [
    "## Gold Pack"
   ]
  },
  {
   "cell_type": "code",
   "execution_count": null,
   "id": "5fb26566",
   "metadata": {},
   "outputs": [],
   "source": [
    "probability = []\n",
    "n=0\n",
    "p=0\n",
    "gold_players = rango_precios(10000000,30000000,precios)[0]\n",
    "for i in range (10000000,30000001,1000000):\n",
    "    z = str(i-1e6) + ' - ' + str(i)\n",
    "    rango.append(z)\n",
    "    n = rango_precios(i-1000000,i,precios)[0]\n",
    "    p = (n/gold_players)*100\n",
    "    probability.append(p)\n",
    "\n",
    "probabilidad = dict(zip(rango,probability))\n",
    "\n",
    "keys = []\n",
    "values = []\n",
    "for key,value in probabilidad.items():\n",
    "    keys.append(str(key))\n",
    "    values.append(str(value))\n",
    "\n",
    "s= dict(zip(keys,values))\n",
    "d = pd.DataFrame(s, index = ['Probabilidad (%)'])\n",
    "d"
   ]
  },
  {
   "cell_type": "markdown",
   "id": "738949f0",
   "metadata": {},
   "source": [
    "## STARTING ELEVEN CHANCES"
   ]
  },
  {
   "cell_type": "code",
   "execution_count": null,
   "id": "cd404922",
   "metadata": {
    "scrolled": false
   },
   "outputs": [],
   "source": [
    "from bs4 import BeautifulSoup\n",
    "import urllib\n",
    "import re\n",
    "\n",
    "url = 'https://www.futbolfantasy.com/'\n",
    "html = urllib.request.urlopen(url)\n",
    "soup = BeautifulSoup(html)\n",
    "teams = soup('a',class_ ='team')\n",
    "Equipos = []\n",
    "for team in teams:\n",
    "    alt = team.get('alt')\n",
    "    if alt not in Equipos:\n",
    "        Equipos.append(alt)\n",
    "\n",
    "### START THE CRAWLER ###\n",
    "\n",
    "links=[]\n",
    "for team in teams:\n",
    "    link = team.get('href')\n",
    "    if link not in links:\n",
    "        links.append(link)\n",
    "\n",
    "\n",
    "titulares_equipos=[]\n",
    "for url2 in links:\n",
    "    html2 = urllib.request.urlopen(url2)\n",
    "    soup2 = BeautifulSoup(html2)\n",
    "    equipo = soup2('span', class_='nombre')\n",
    "    equipo = re.findall('(?<=>).*(?=<)',str(equipo))\n",
    "    jug = soup2('a', class_='juggador')\n",
    "    datos_jug=[]\n",
    "    for i in jug:\n",
    "        datos_jug.append(i.contents)\n",
    "        p = re.findall('\\d\\d%',str(i.contents))\n",
    "        n = re.findall('(?<=>).*(?=<)',str(i.contents))\n",
    "        nombres_titulares = []\n",
    "        for nombres in titulares_equipos:\n",
    "            nombres_titulares.append(nombres[0])\n",
    "        if len(n)>0:\n",
    "            if n[0] not in nombres_titulares:\n",
    "                if p != []:\n",
    "                    z = [n[0],p[0],equipo[0]]\n",
    "                    titulares_equipos.append(z)"
   ]
  },
  {
   "cell_type": "code",
   "execution_count": null,
   "id": "77eec0fc",
   "metadata": {},
   "outputs": [],
   "source": [
    "df_ff = pd.DataFrame(titulares_equipos,columns=['name','Titularidad','Equipo'])\n",
    "df_ff"
   ]
  },
  {
   "cell_type": "code",
   "execution_count": null,
   "id": "b8e5d794",
   "metadata": {},
   "outputs": [],
   "source": [
    "#Get the starting eleven chances:\n",
    "def titularidad_equipo(equipo):\n",
    "    print(df_ff.get(df_ff['Equipo']==equipo))"
   ]
  },
  {
   "cell_type": "code",
   "execution_count": null,
   "id": "a1b375a4",
   "metadata": {},
   "outputs": [],
   "source": [
    "titularidad_equipo('Real Madrid')"
   ]
  },
  {
   "cell_type": "markdown",
   "id": "0a3bf5d6",
   "metadata": {},
   "source": [
    "## API - SOFASCORE"
   ]
  },
  {
   "cell_type": "markdown",
   "id": "328daebc",
   "metadata": {},
   "source": [
    "### Sofascore Average Score"
   ]
  },
  {
   "cell_type": "code",
   "execution_count": null,
   "id": "80bda054",
   "metadata": {},
   "outputs": [],
   "source": [
    "import requests\n",
    "import json\n",
    "ids=[]\n",
    "equipo_ids=dict()\n",
    "url = \"https://sofascore.p.rapidapi.com/teams/search\"\n",
    "Sofascore=pd.DataFrame(columns=['Jugador','Media','Equipo','ID'])\n",
    "for equipo in Equipos:\n",
    "    try:\n",
    "        url = \"https://sofascore.p.rapidapi.com/teams/search\"\n",
    "        querystring = {\"name\":equipo}\n",
    "        headers = {\n",
    "            'x-rapidapi-host': \"sofascore.p.rapidapi.com\",\n",
    "            'x-rapidapi-key': \"##########################################\"\n",
    "            }\n",
    "\n",
    "        response = requests.request(\"GET\", url, headers=headers, params=querystring)\n",
    "        r=json.loads(response.text)\n",
    "\n",
    "        ids.append(r['teams'][0]['id'])\n",
    "        equipo_ids[equipo]=r['teams'][0]['id']\n",
    "\n",
    "        url = \"https://sofascore.p.rapidapi.com/teams/get-squad\"\n",
    "        for id_ in ids:\n",
    "\n",
    "            querystring = {\"teamId\":id_}\n",
    "\n",
    "            headers = {\n",
    "                'x-rapidapi-host': \"sofascore.p.rapidapi.com\",\n",
    "                'x-rapidapi-key': \"##########################################\"\n",
    "                }\n",
    "\n",
    "            response = requests.request(\"GET\", url, headers=headers, params=querystring)\n",
    "            r=json.loads(response.text)\n",
    "\n",
    "            p=r['players']\n",
    "            for i in range(len(p)):\n",
    "                idd=p[i]['player']['id']\n",
    "                player=p[i]['player']['name']\n",
    "                url = \"https://sofascore.p.rapidapi.com/players/get-last-ratings\"\n",
    "\n",
    "                querystring = {\"playerId\":idd,\"tournamentId\":\"8\",\"seasonId\":\"37223\"}\n",
    "\n",
    "                headers = {\n",
    "                    'x-rapidapi-host': \"sofascore.p.rapidapi.com\",\n",
    "                    'x-rapidapi-key': \"##########################################\"\n",
    "                    }\n",
    "\n",
    "                response = requests.request(\"GET\", url, headers=headers, params=querystring)\n",
    "                r=json.loads(response.text)\n",
    "                ratings = r['lastRatings']\n",
    "                j=0\n",
    "                rates=0\n",
    "                try:\n",
    "                    for i in range(len(ratings)):\n",
    "                        rate=ratings[i]['rating']\n",
    "                        j=j+1\n",
    "                        rates=rates+rate\n",
    "                    media=rates/j\n",
    "                    Sofascore=Sofascore.append({'Jugador':player,'Media':media,'Equipo':equipo,'ID':idd},ignore_index=True)\n",
    "                except:\n",
    "                    continue\n",
    "    except:\n",
    "        print('Error en la extracción de datos del equipo:',equipo)"
   ]
  },
  {
   "cell_type": "code",
   "execution_count": null,
   "id": "f3df1a7f",
   "metadata": {},
   "outputs": [],
   "source": [
    "## Show the Sofascore Dataset\n",
    "Sofascore"
   ]
  }
 ],
 "metadata": {
  "kernelspec": {
   "display_name": "Python 3",
   "language": "python",
   "name": "python3"
  },
  "language_info": {
   "codemirror_mode": {
    "name": "ipython",
    "version": 3
   },
   "file_extension": ".py",
   "mimetype": "text/x-python",
   "name": "python",
   "nbconvert_exporter": "python",
   "pygments_lexer": "ipython3",
   "version": "3.8.8"
  }
 },
 "nbformat": 4,
 "nbformat_minor": 5
}
