{
 "cells": [
  {
   "cell_type": "markdown",
   "id": "094df358",
   "metadata": {},
   "source": [
    "# ANÁLISIS DE BIWENGER"
   ]
  },
  {
   "cell_type": "markdown",
   "id": "1a47caff",
   "metadata": {},
   "source": [
    "Este código obtiene los datos de los jugadores de la web de Biwenger y analiza los jugadores por rango de precio, las posibilidades de obtener a un jugador de un rango de precio determinado en un sobre, y el porcentaje de titularidad de los jugadores desde la web FutbolFantasy"
   ]
  },
  {
   "cell_type": "markdown",
   "id": "10cdb301",
   "metadata": {},
   "source": [
    "## Obtención de los datos de Biwenger"
   ]
  },
  {
   "cell_type": "code",
   "execution_count": 1,
   "id": "d548fef2",
   "metadata": {},
   "outputs": [],
   "source": [
    "import requests\n",
    "import csv\n",
    "import pandas as pd\n",
    "\n",
    "#Obtenemos el Json de Biwenger\n",
    "\n",
    "r = requests.get(\n",
    "    \"https://cf.biwenger.com/api/v2/competitions/la-liga/data?lang=en&score=1\").json()\n",
    "\n",
    "#Extraemos los datos de los jugadores\n",
    "\n",
    "data = []\n",
    "for k, v in r['data']['players'].items():\n",
    "    data.append(v)\n",
    "\n",
    "with open('output.csv', 'w', newline=\"\", encoding=\"UTF-8\") as f:\n",
    "    writer = csv.writer(f)\n",
    "    writer.writerow(v.keys())\n",
    "    writer.writerows(data)"
   ]
  },
  {
   "cell_type": "code",
   "execution_count": 2,
   "id": "8fe69a3a",
   "metadata": {},
   "outputs": [],
   "source": [
    "df = pd.DataFrame(data)"
   ]
  },
  {
   "cell_type": "code",
   "execution_count": 3,
   "id": "acc5a374",
   "metadata": {},
   "outputs": [
    {
     "data": {
      "text/html": [
       "<div>\n",
       "<style scoped>\n",
       "    .dataframe tbody tr th:only-of-type {\n",
       "        vertical-align: middle;\n",
       "    }\n",
       "\n",
       "    .dataframe tbody tr th {\n",
       "        vertical-align: top;\n",
       "    }\n",
       "\n",
       "    .dataframe thead th {\n",
       "        text-align: right;\n",
       "    }\n",
       "</style>\n",
       "<table border=\"1\" class=\"dataframe\">\n",
       "  <thead>\n",
       "    <tr style=\"text-align: right;\">\n",
       "      <th></th>\n",
       "      <th>id</th>\n",
       "      <th>name</th>\n",
       "      <th>slug</th>\n",
       "      <th>teamID</th>\n",
       "      <th>position</th>\n",
       "      <th>price</th>\n",
       "      <th>fantasyPrice</th>\n",
       "      <th>status</th>\n",
       "      <th>priceIncrement</th>\n",
       "      <th>playedHome</th>\n",
       "      <th>playedAway</th>\n",
       "      <th>fitness</th>\n",
       "      <th>points</th>\n",
       "      <th>pointsHome</th>\n",
       "      <th>pointsAway</th>\n",
       "      <th>pointsLastSeason</th>\n",
       "      <th>statusInfo</th>\n",
       "    </tr>\n",
       "  </thead>\n",
       "  <tbody>\n",
       "    <tr>\n",
       "      <th>0</th>\n",
       "      <td>12215</td>\n",
       "      <td>Alejandro Cantero</td>\n",
       "      <td>a-cantero</td>\n",
       "      <td>10.0</td>\n",
       "      <td>4</td>\n",
       "      <td>150000</td>\n",
       "      <td>7000000</td>\n",
       "      <td>ok</td>\n",
       "      <td>0</td>\n",
       "      <td>1</td>\n",
       "      <td>1</td>\n",
       "      <td>[6, -2, None, None, None]</td>\n",
       "      <td>4</td>\n",
       "      <td>-2</td>\n",
       "      <td>6</td>\n",
       "      <td>NaN</td>\n",
       "      <td>NaN</td>\n",
       "    </tr>\n",
       "    <tr>\n",
       "      <th>1</th>\n",
       "      <td>17731</td>\n",
       "      <td>Catena</td>\n",
       "      <td>a-catena</td>\n",
       "      <td>70.0</td>\n",
       "      <td>2</td>\n",
       "      <td>2540000</td>\n",
       "      <td>11000000</td>\n",
       "      <td>ok</td>\n",
       "      <td>30000</td>\n",
       "      <td>1</td>\n",
       "      <td>2</td>\n",
       "      <td>[6, 2, 6, None, None]</td>\n",
       "      <td>14</td>\n",
       "      <td>6</td>\n",
       "      <td>8</td>\n",
       "      <td>NaN</td>\n",
       "      <td>NaN</td>\n",
       "    </tr>\n",
       "    <tr>\n",
       "      <th>2</th>\n",
       "      <td>16606</td>\n",
       "      <td>Aitor Fernández</td>\n",
       "      <td>a-fernandez</td>\n",
       "      <td>10.0</td>\n",
       "      <td>1</td>\n",
       "      <td>3000000</td>\n",
       "      <td>20000000</td>\n",
       "      <td>ok</td>\n",
       "      <td>-20000</td>\n",
       "      <td>1</td>\n",
       "      <td>1</td>\n",
       "      <td>[sanctioned, -4, 2, None, None]</td>\n",
       "      <td>-2</td>\n",
       "      <td>-4</td>\n",
       "      <td>2</td>\n",
       "      <td>118.0</td>\n",
       "      <td>NaN</td>\n",
       "    </tr>\n",
       "    <tr>\n",
       "      <th>3</th>\n",
       "      <td>15462</td>\n",
       "      <td>Gorosabel</td>\n",
       "      <td>a-gorosabel</td>\n",
       "      <td>13.0</td>\n",
       "      <td>2</td>\n",
       "      <td>2870000</td>\n",
       "      <td>15000000</td>\n",
       "      <td>ok</td>\n",
       "      <td>10000</td>\n",
       "      <td>2</td>\n",
       "      <td>1</td>\n",
       "      <td>[6, 2, 2, None, None]</td>\n",
       "      <td>10</td>\n",
       "      <td>8</td>\n",
       "      <td>2</td>\n",
       "      <td>128.0</td>\n",
       "      <td>NaN</td>\n",
       "    </tr>\n",
       "    <tr>\n",
       "      <th>4</th>\n",
       "      <td>2224</td>\n",
       "      <td>Antonio Sánchez</td>\n",
       "      <td>a-sanchez</td>\n",
       "      <td>465.0</td>\n",
       "      <td>3</td>\n",
       "      <td>150000</td>\n",
       "      <td>8000000</td>\n",
       "      <td>injured</td>\n",
       "      <td>0</td>\n",
       "      <td>0</td>\n",
       "      <td>0</td>\n",
       "      <td>[injured, injured, injured, None, None]</td>\n",
       "      <td>0</td>\n",
       "      <td>0</td>\n",
       "      <td>0</td>\n",
       "      <td>NaN</td>\n",
       "      <td>Shoulder problems</td>\n",
       "    </tr>\n",
       "    <tr>\n",
       "      <th>...</th>\n",
       "      <td>...</td>\n",
       "      <td>...</td>\n",
       "      <td>...</td>\n",
       "      <td>...</td>\n",
       "      <td>...</td>\n",
       "      <td>...</td>\n",
       "      <td>...</td>\n",
       "      <td>...</td>\n",
       "      <td>...</td>\n",
       "      <td>...</td>\n",
       "      <td>...</td>\n",
       "      <td>...</td>\n",
       "      <td>...</td>\n",
       "      <td>...</td>\n",
       "      <td>...</td>\n",
       "      <td>...</td>\n",
       "      <td>...</td>\n",
       "    </tr>\n",
       "    <tr>\n",
       "      <th>558</th>\n",
       "      <td>1074</td>\n",
       "      <td>Yuri</td>\n",
       "      <td>yuri-berchiche</td>\n",
       "      <td>1.0</td>\n",
       "      <td>2</td>\n",
       "      <td>790000</td>\n",
       "      <td>18000000</td>\n",
       "      <td>injured</td>\n",
       "      <td>-10000</td>\n",
       "      <td>0</td>\n",
       "      <td>0</td>\n",
       "      <td>[injured, injured, injured, None, None]</td>\n",
       "      <td>0</td>\n",
       "      <td>0</td>\n",
       "      <td>0</td>\n",
       "      <td>81.0</td>\n",
       "      <td>Operación por una pubalgia.</td>\n",
       "    </tr>\n",
       "    <tr>\n",
       "      <th>559</th>\n",
       "      <td>23041</td>\n",
       "      <td>Demir</td>\n",
       "      <td>yusuf-demir</td>\n",
       "      <td>3.0</td>\n",
       "      <td>3</td>\n",
       "      <td>1080000</td>\n",
       "      <td>7000000</td>\n",
       "      <td>ok</td>\n",
       "      <td>-70000</td>\n",
       "      <td>0</td>\n",
       "      <td>1</td>\n",
       "      <td>[None, 2, None, None, None]</td>\n",
       "      <td>2</td>\n",
       "      <td>0</td>\n",
       "      <td>2</td>\n",
       "      <td>NaN</td>\n",
       "      <td>NaN</td>\n",
       "    </tr>\n",
       "    <tr>\n",
       "      <th>560</th>\n",
       "      <td>1800</td>\n",
       "      <td>Zaldua</td>\n",
       "      <td>zaldua</td>\n",
       "      <td>13.0</td>\n",
       "      <td>2</td>\n",
       "      <td>370000</td>\n",
       "      <td>12000000</td>\n",
       "      <td>ok</td>\n",
       "      <td>0</td>\n",
       "      <td>1</td>\n",
       "      <td>1</td>\n",
       "      <td>[0, None, 2, None, None]</td>\n",
       "      <td>2</td>\n",
       "      <td>0</td>\n",
       "      <td>2</td>\n",
       "      <td>30.0</td>\n",
       "      <td>NaN</td>\n",
       "    </tr>\n",
       "    <tr>\n",
       "      <th>561</th>\n",
       "      <td>8376</td>\n",
       "      <td>Zubeldia</td>\n",
       "      <td>zubeldia</td>\n",
       "      <td>13.0</td>\n",
       "      <td>3</td>\n",
       "      <td>1180000</td>\n",
       "      <td>18000000</td>\n",
       "      <td>ok</td>\n",
       "      <td>-20000</td>\n",
       "      <td>0</td>\n",
       "      <td>0</td>\n",
       "      <td>[None, doubt, doubt, None, None]</td>\n",
       "      <td>0</td>\n",
       "      <td>0</td>\n",
       "      <td>0</td>\n",
       "      <td>92.0</td>\n",
       "      <td>NaN</td>\n",
       "    </tr>\n",
       "    <tr>\n",
       "      <th>562</th>\n",
       "      <td>8837</td>\n",
       "      <td>Zubimendi</td>\n",
       "      <td>zubimendi</td>\n",
       "      <td>13.0</td>\n",
       "      <td>3</td>\n",
       "      <td>3000000</td>\n",
       "      <td>15000000</td>\n",
       "      <td>ok</td>\n",
       "      <td>30000</td>\n",
       "      <td>2</td>\n",
       "      <td>1</td>\n",
       "      <td>[6, 2, 2, None, None]</td>\n",
       "      <td>10</td>\n",
       "      <td>8</td>\n",
       "      <td>2</td>\n",
       "      <td>106.0</td>\n",
       "      <td>NaN</td>\n",
       "    </tr>\n",
       "  </tbody>\n",
       "</table>\n",
       "<p>563 rows × 17 columns</p>\n",
       "</div>"
      ],
      "text/plain": [
       "        id               name            slug  teamID  position    price  \\\n",
       "0    12215  Alejandro Cantero       a-cantero    10.0         4   150000   \n",
       "1    17731             Catena        a-catena    70.0         2  2540000   \n",
       "2    16606    Aitor Fernández     a-fernandez    10.0         1  3000000   \n",
       "3    15462          Gorosabel     a-gorosabel    13.0         2  2870000   \n",
       "4     2224    Antonio Sánchez       a-sanchez   465.0         3   150000   \n",
       "..     ...                ...             ...     ...       ...      ...   \n",
       "558   1074               Yuri  yuri-berchiche     1.0         2   790000   \n",
       "559  23041              Demir     yusuf-demir     3.0         3  1080000   \n",
       "560   1800             Zaldua          zaldua    13.0         2   370000   \n",
       "561   8376           Zubeldia        zubeldia    13.0         3  1180000   \n",
       "562   8837          Zubimendi       zubimendi    13.0         3  3000000   \n",
       "\n",
       "     fantasyPrice   status  priceIncrement  playedHome  playedAway  \\\n",
       "0         7000000       ok               0           1           1   \n",
       "1        11000000       ok           30000           1           2   \n",
       "2        20000000       ok          -20000           1           1   \n",
       "3        15000000       ok           10000           2           1   \n",
       "4         8000000  injured               0           0           0   \n",
       "..            ...      ...             ...         ...         ...   \n",
       "558      18000000  injured          -10000           0           0   \n",
       "559       7000000       ok          -70000           0           1   \n",
       "560      12000000       ok               0           1           1   \n",
       "561      18000000       ok          -20000           0           0   \n",
       "562      15000000       ok           30000           2           1   \n",
       "\n",
       "                                     fitness  points  pointsHome  pointsAway  \\\n",
       "0                  [6, -2, None, None, None]       4          -2           6   \n",
       "1                      [6, 2, 6, None, None]      14           6           8   \n",
       "2            [sanctioned, -4, 2, None, None]      -2          -4           2   \n",
       "3                      [6, 2, 2, None, None]      10           8           2   \n",
       "4    [injured, injured, injured, None, None]       0           0           0   \n",
       "..                                       ...     ...         ...         ...   \n",
       "558  [injured, injured, injured, None, None]       0           0           0   \n",
       "559              [None, 2, None, None, None]       2           0           2   \n",
       "560                 [0, None, 2, None, None]       2           0           2   \n",
       "561         [None, doubt, doubt, None, None]       0           0           0   \n",
       "562                    [6, 2, 2, None, None]      10           8           2   \n",
       "\n",
       "     pointsLastSeason                   statusInfo  \n",
       "0                 NaN                          NaN  \n",
       "1                 NaN                          NaN  \n",
       "2               118.0                          NaN  \n",
       "3               128.0                          NaN  \n",
       "4                 NaN            Shoulder problems  \n",
       "..                ...                          ...  \n",
       "558              81.0  Operación por una pubalgia.  \n",
       "559               NaN                          NaN  \n",
       "560              30.0                          NaN  \n",
       "561              92.0                          NaN  \n",
       "562             106.0                          NaN  \n",
       "\n",
       "[563 rows x 17 columns]"
      ]
     },
     "execution_count": 3,
     "metadata": {},
     "output_type": "execute_result"
    }
   ],
   "source": [
    "df"
   ]
  },
  {
   "cell_type": "markdown",
   "id": "6113d5c2",
   "metadata": {},
   "source": [
    "## Cálculo del número de jugadores en un rango de precios"
   ]
  },
  {
   "cell_type": "code",
   "execution_count": 4,
   "id": "e6ea8ed6",
   "metadata": {},
   "outputs": [],
   "source": [
    "n_players = df['price'].count()"
   ]
  },
  {
   "cell_type": "code",
   "execution_count": 5,
   "id": "4fa9b3d3",
   "metadata": {},
   "outputs": [],
   "source": [
    "precios = list(df['price'])"
   ]
  },
  {
   "cell_type": "code",
   "execution_count": 6,
   "id": "82d94b19",
   "metadata": {},
   "outputs": [],
   "source": [
    "def rango_precios(a,b,precios):\n",
    "    count = 0\n",
    "    for i in range (len(precios)):\n",
    "        if precios[i]>=a and precios[i]<=b:\n",
    "            count = count + 1\n",
    "    porcentaje = (count/len(precios))*100\n",
    "    return (count, porcentaje)\n",
    "    "
   ]
  },
  {
   "cell_type": "code",
   "execution_count": 7,
   "id": "f73af2c5",
   "metadata": {},
   "outputs": [
    {
     "name": "stdout",
     "output_type": "stream",
     "text": [
      "El porcentaje de jugadores en el intervalo es de : 1.7761989342806392 %\n"
     ]
    }
   ],
   "source": [
    "porcentaje = rango_precios(8000000,10000000,precios)[1]\n",
    "print('El porcentaje de jugadores en el intervalo es de :', porcentaje, '%')"
   ]
  },
  {
   "cell_type": "markdown",
   "id": "546e223c",
   "metadata": {},
   "source": [
    "## Histograma del número de jugadores por un precio"
   ]
  },
  {
   "cell_type": "code",
   "execution_count": 8,
   "id": "4fb1527e",
   "metadata": {},
   "outputs": [
    {
     "data": {
      "text/plain": [
       "Text(0, 0.5, 'Jugadores')"
      ]
     },
     "execution_count": 8,
     "metadata": {},
     "output_type": "execute_result"
    },
    {
     "data": {
      "image/png": "[encoded data removed]",
      "text/plain": [
       "<Figure size 432x288 with 1 Axes>"
      ]
     },
     "metadata": {
      "needs_background": "light"
     },
     "output_type": "display_data"
    }
   ],
   "source": [
    "import matplotlib.pyplot as mp\n",
    "intervalos = range(min(precios),max(precios),1000000)\n",
    "mp.hist(x=precios, bins=intervalos, color='#F2AB6D', rwidth=0.85)\n",
    "mp.title('Histograma de precios')\n",
    "mp.xlabel('Precio')\n",
    "mp.ylabel('Jugadores')"
   ]
  },
  {
   "cell_type": "markdown",
   "id": "dc95f545",
   "metadata": {},
   "source": [
    "## TOP 10 Jugadores con mayor subida de valor"
   ]
  },
  {
   "cell_type": "code",
   "execution_count": 9,
   "id": "b4f19b02",
   "metadata": {},
   "outputs": [],
   "source": [
    "delta_max=[]\n",
    "player_delta=[]\n",
    "for i in range (len(df['priceIncrement'])):\n",
    "    if df['priceIncrement'][i]>100000:\n",
    "        delta_max.append(df['priceIncrement'][i])\n",
    "        player_delta.append(df['name'][i])\n",
    "        \n",
    "price_var = dict(zip(player_delta,delta_max))"
   ]
  },
  {
   "cell_type": "code",
   "execution_count": 10,
   "id": "9abab63d",
   "metadata": {},
   "outputs": [
    {
     "data": {
      "text/plain": [
       "[('Dani Rodríguez', 110000),\n",
       " ('Iñigo Martínez', 110000),\n",
       " ('Marcos André', 110000),\n",
       " ('Randy Nteka', 110000),\n",
       " ('Barrenetxea', 120000),\n",
       " ('Carvajal', 120000),\n",
       " ('Erik Lamela', 130000),\n",
       " ('Guedes', 130000),\n",
       " ('Memphis Depay', 130000),\n",
       " ('Dani Vivian', 140000),\n",
       " ('Fer Niño', 150000),\n",
       " ('Mojica', 150000),\n",
       " ('Sancet', 150000),\n",
       " ('Soler', 170000),\n",
       " ('A. Correa', 170000),\n",
       " ('Willian José', 170000),\n",
       " ('Vinícius Jr', 220000)]"
      ]
     },
     "execution_count": 10,
     "metadata": {},
     "output_type": "execute_result"
    }
   ],
   "source": [
    "import operator\n",
    "price_var = sorted(price_var.items(), key=operator.itemgetter(1))\n",
    "price_var"
   ]
  },
  {
   "cell_type": "markdown",
   "id": "b84820cd",
   "metadata": {},
   "source": [
    "## CÁLCULO PROBABILIDADES SOBRES"
   ]
  },
  {
   "cell_type": "markdown",
   "id": "632f55bc",
   "metadata": {},
   "source": [
    " Estos códigos calculan la probabilidad de obtener un jugador de un rango de precio determinado al comprar los diferentes tipos de sobres. PSe obtiene el vector probabilidad teniendo solo en cuenta los jugadores en el rango del sobre."
   ]
  },
  {
   "cell_type": "markdown",
   "id": "42f93edb",
   "metadata": {},
   "source": [
    "## Probabilidades de un Sobre Bronce"
   ]
  },
  {
   "cell_type": "code",
   "execution_count": 11,
   "id": "eea46dda",
   "metadata": {},
   "outputs": [
    {
     "name": "stdout",
     "output_type": "stream",
     "text": [
      "0.0 - 1000000  :  44.14784394250513 %\n",
      "1000000.0 - 2000000  :  20.944558521560573 %\n",
      "2000000.0 - 3000000  :  16.2217659137577 %\n",
      "3000000.0 - 4000000  :  13.347022587268995 %\n",
      "4000000.0 - 5000000  :  6.981519507186857 %\n"
     ]
    }
   ],
   "source": [
    "probability = []\n",
    "rango = []\n",
    "n=0\n",
    "p=0\n",
    "bronze_players = rango_precios(0,5000000,precios)[0]\n",
    "for i in range (1000000,5000001,1000000):\n",
    "    z = str(i-1e6) + ' - ' + str(i)\n",
    "    rango.append(z)\n",
    "    n = rango_precios(i-1000000,i,precios)[0]\n",
    "    p = (n/bronze_players)*100\n",
    "    probability.append(p)\n",
    "\n",
    "probabilidad = dict(zip(rango,probability))\n",
    "\n",
    "for key,value in probabilidad.items():\n",
    "    print (key,' : ',value, '%')"
   ]
  },
  {
   "cell_type": "markdown",
   "id": "8ee9b1c8",
   "metadata": {},
   "source": [
    "## Probabilidades de un Sobre Plata"
   ]
  },
  {
   "cell_type": "code",
   "execution_count": 12,
   "id": "dce52a0d",
   "metadata": {},
   "outputs": [
    {
     "name": "stdout",
     "output_type": "stream",
     "text": [
      "Las posibilidades de ganar dinero con el sobre son de:  17.241379310344826\n",
      "5000000.0 - 6000000  :  32.758620689655174 %\n",
      "6000000.0 - 7000000  :  37.93103448275862 %\n",
      "7000000.0 - 8000000  :  13.793103448275861 %\n",
      "8000000.0 - 9000000  :  12.068965517241379 %\n",
      "9000000.0 - 10000000  :  5.172413793103448 %\n"
     ]
    }
   ],
   "source": [
    "probability = []\n",
    "rango = []\n",
    "n=0\n",
    "p=0\n",
    "silver_players = rango_precios(5000000,10000000,precios)[0]\n",
    "for i in range (6000000,10000001,1000000):\n",
    "    z = str(i-1e6) + ' - ' + str(i)\n",
    "    rango.append(z)\n",
    "    n = rango_precios(i-1000000,i,precios)[0]\n",
    "    p = (n/silver_players)*100\n",
    "    probability.append(p)\n",
    "    \n",
    "invest_recover = probability[3]+probability[4]\n",
    "print ('Las posibilidades de ganar dinero con el sobre son de: ',invest_recover)\n",
    "probabilidad = dict(zip(rango,probability))\n",
    "\n",
    "for key,value in probabilidad.items():\n",
    "    print (key,' : ',value, '%')"
   ]
  },
  {
   "cell_type": "code",
   "execution_count": 13,
   "id": "c2e9f053",
   "metadata": {},
   "outputs": [
    {
     "data": {
      "text/plain": [
       "[32.758620689655174,\n",
       " 37.93103448275862,\n",
       " 13.793103448275861,\n",
       " 12.068965517241379,\n",
       " 5.172413793103448]"
      ]
     },
     "execution_count": 13,
     "metadata": {},
     "output_type": "execute_result"
    }
   ],
   "source": [
    "probability"
   ]
  },
  {
   "cell_type": "markdown",
   "id": "a3fc0eb4",
   "metadata": {},
   "source": [
    "## Probabilidades Sobre Oro"
   ]
  },
  {
   "cell_type": "code",
   "execution_count": 14,
   "id": "5fb26566",
   "metadata": {},
   "outputs": [
    {
     "name": "stdout",
     "output_type": "stream",
     "text": [
      "5000000.0 - 6000000  :  16.666666666666664 %\n",
      "6000000.0 - 7000000  :  22.22222222222222 %\n",
      "7000000.0 - 8000000  :  38.88888888888889 %\n",
      "8000000.0 - 9000000  :  5.555555555555555 %\n",
      "9000000.0 - 10000000  :  5.555555555555555 %\n",
      "10000000.0 - 11000000  :  11.11111111111111 %\n",
      "11000000.0 - 12000000  :  5.555555555555555 %\n",
      "12000000.0 - 13000000  :  5.555555555555555 %\n",
      "13000000.0 - 14000000  :  0.0 %\n",
      "14000000.0 - 15000000  :  0.0 %\n",
      "15000000.0 - 16000000  :  5.555555555555555 %\n",
      "16000000.0 - 17000000  :  0.0 %\n",
      "17000000.0 - 18000000  :  0.0 %\n",
      "18000000.0 - 19000000  :  0.0 %\n",
      "19000000.0 - 20000000  :  0.0 %\n",
      "20000000.0 - 21000000  :  0.0 %\n",
      "21000000.0 - 22000000  :  0.0 %\n",
      "22000000.0 - 23000000  :  0.0 %\n",
      "23000000.0 - 24000000  :  0.0 %\n",
      "24000000.0 - 25000000  :  0.0 %\n"
     ]
    }
   ],
   "source": [
    "probability = []\n",
    "n=0\n",
    "p=0\n",
    "gold_players = rango_precios(10000000,30000000,precios)[0]\n",
    "for i in range (10000000,30000001,1000000):\n",
    "    z = str(i-1e6) + ' - ' + str(i)\n",
    "    rango.append(z)\n",
    "    n = rango_precios(i-1000000,i,precios)[0]\n",
    "    p = (n/gold_players)*100\n",
    "    probability.append(p)\n",
    "\n",
    "probabilidad = dict(zip(rango,probability))\n",
    "\n",
    "for key,value in probabilidad.items():\n",
    "    print (key,' : ',value, '%')"
   ]
  },
  {
   "cell_type": "markdown",
   "id": "738949f0",
   "metadata": {},
   "source": [
    "## BUSCAR JUGADORES TITULARES"
   ]
  },
  {
   "cell_type": "code",
   "execution_count": 15,
   "id": "cd404922",
   "metadata": {
    "scrolled": false
   },
   "outputs": [],
   "source": [
    "from bs4 import BeautifulSoup\n",
    "import urllib\n",
    "import re\n",
    "\n",
    "url = 'https://www.futbolfantasy.com/'\n",
    "html = urllib.request.urlopen(url)\n",
    "soup = BeautifulSoup(html)\n",
    "teams = soup('a',class_ ='team')\n",
    "Equipos = []\n",
    "for team in teams:\n",
    "    alt = team.get('alt')\n",
    "    if alt not in Equipos:\n",
    "        Equipos.append(alt)\n",
    "\n",
    "### START THE CRAWLER ###\n",
    "\n",
    "links=[]\n",
    "for team in teams:\n",
    "    link = team.get('href')\n",
    "    if link not in links:\n",
    "        links.append(link)\n",
    "\n",
    "\n",
    "titulares_equipos=[]\n",
    "for url2 in links:\n",
    "    html2 = urllib.request.urlopen(url2)\n",
    "    soup2 = BeautifulSoup(html2)\n",
    "    equipo = soup2('span', class_='nombre')\n",
    "    equipo = re.findall('(?<=>).*(?=<)',str(equipo))\n",
    "    jug = soup2('a', class_='juggador')\n",
    "    datos_jug=[]\n",
    "    for i in jug:\n",
    "        datos_jug.append(i.contents)\n",
    "        p = re.findall('\\d\\d%',str(i.contents))\n",
    "        n = re.findall('(?<=>).*(?=<)',str(i.contents))\n",
    "        nombres_titulares = []\n",
    "        for nombres in titulares_equipos:\n",
    "            nombres_titulares.append(nombres[0])\n",
    "        if len(n)>0:\n",
    "            if n[0] not in nombres_titulares:\n",
    "                if p != []:\n",
    "                    z = [n[0],p[0],equipo[0]]\n",
    "                    titulares_equipos.append(z)\n",
    "\n"
   ]
  },
  {
   "cell_type": "code",
   "execution_count": 16,
   "id": "77eec0fc",
   "metadata": {},
   "outputs": [
    {
     "data": {
      "text/html": [
       "<div>\n",
       "<style scoped>\n",
       "    .dataframe tbody tr th:only-of-type {\n",
       "        vertical-align: middle;\n",
       "    }\n",
       "\n",
       "    .dataframe tbody tr th {\n",
       "        vertical-align: top;\n",
       "    }\n",
       "\n",
       "    .dataframe thead th {\n",
       "        text-align: right;\n",
       "    }\n",
       "</style>\n",
       "<table border=\"1\" class=\"dataframe\">\n",
       "  <thead>\n",
       "    <tr style=\"text-align: right;\">\n",
       "      <th></th>\n",
       "      <th>name</th>\n",
       "      <th>Titularidad</th>\n",
       "      <th>Equipo</th>\n",
       "    </tr>\n",
       "  </thead>\n",
       "  <tbody>\n",
       "    <tr>\n",
       "      <th>0</th>\n",
       "      <td>Pacheco</td>\n",
       "      <td>95%</td>\n",
       "      <td>Alavés</td>\n",
       "    </tr>\n",
       "    <tr>\n",
       "      <th>1</th>\n",
       "      <td>R. Duarte</td>\n",
       "      <td>80%</td>\n",
       "      <td>Alavés</td>\n",
       "    </tr>\n",
       "    <tr>\n",
       "      <th>2</th>\n",
       "      <td>Javi López</td>\n",
       "      <td>20%</td>\n",
       "      <td>Alavés</td>\n",
       "    </tr>\n",
       "    <tr>\n",
       "      <th>3</th>\n",
       "      <td>Joselu</td>\n",
       "      <td>95%</td>\n",
       "      <td>Alavés</td>\n",
       "    </tr>\n",
       "    <tr>\n",
       "      <th>4</th>\n",
       "      <td>Rioja</td>\n",
       "      <td>60%</td>\n",
       "      <td>Alavés</td>\n",
       "    </tr>\n",
       "    <tr>\n",
       "      <th>...</th>\n",
       "      <td>...</td>\n",
       "      <td>...</td>\n",
       "      <td>...</td>\n",
       "    </tr>\n",
       "    <tr>\n",
       "      <th>418</th>\n",
       "      <td>Estupiñán</td>\n",
       "      <td>20%</td>\n",
       "      <td>Villarreal</td>\n",
       "    </tr>\n",
       "    <tr>\n",
       "      <th>419</th>\n",
       "      <td>Pau Torres</td>\n",
       "      <td>95%</td>\n",
       "      <td>Villarreal</td>\n",
       "    </tr>\n",
       "    <tr>\n",
       "      <th>420</th>\n",
       "      <td>Mandi</td>\n",
       "      <td>10%</td>\n",
       "      <td>Villarreal</td>\n",
       "    </tr>\n",
       "    <tr>\n",
       "      <th>421</th>\n",
       "      <td>Coquelin</td>\n",
       "      <td>20%</td>\n",
       "      <td>Villarreal</td>\n",
       "    </tr>\n",
       "    <tr>\n",
       "      <th>422</th>\n",
       "      <td>Moi Gómez</td>\n",
       "      <td>20%</td>\n",
       "      <td>Villarreal</td>\n",
       "    </tr>\n",
       "  </tbody>\n",
       "</table>\n",
       "<p>423 rows × 3 columns</p>\n",
       "</div>"
      ],
      "text/plain": [
       "           name Titularidad      Equipo\n",
       "0       Pacheco         95%      Alavés\n",
       "1     R. Duarte         80%      Alavés\n",
       "2    Javi López         20%      Alavés\n",
       "3        Joselu         95%      Alavés\n",
       "4         Rioja         60%      Alavés\n",
       "..          ...         ...         ...\n",
       "418   Estupiñán         20%  Villarreal\n",
       "419  Pau Torres         95%  Villarreal\n",
       "420       Mandi         10%  Villarreal\n",
       "421    Coquelin         20%  Villarreal\n",
       "422   Moi Gómez         20%  Villarreal\n",
       "\n",
       "[423 rows x 3 columns]"
      ]
     },
     "execution_count": 16,
     "metadata": {},
     "output_type": "execute_result"
    }
   ],
   "source": [
    "df_ff = pd.DataFrame(titulares_equipos,columns=['name','Titularidad','Equipo'])\n",
    "df_ff"
   ]
  },
  {
   "cell_type": "code",
   "execution_count": 17,
   "id": "b8e5d794",
   "metadata": {},
   "outputs": [
    {
     "name": "stdout",
     "output_type": "stream",
     "text": [
      "          name Titularidad       Equipo\n",
      "321   Courtois         95%  Real Madrid\n",
      "322   Casemiro         95%  Real Madrid\n",
      "323    Benzema         95%  Real Madrid\n",
      "324   Vinicius         50%  Real Madrid\n",
      "325  E. Hazard         50%  Real Madrid\n",
      "326      Nacho         70%  Real Madrid\n",
      "327      Mendy         20%  Real Madrid\n",
      "328     Miguel         10%  Real Madrid\n",
      "329      Kroos         90%  Real Madrid\n",
      "330       Isco         10%  Real Madrid\n",
      "331   Carvajal         80%  Real Madrid\n",
      "332      Lucas         20%  Real Madrid\n",
      "333    Militão         95%  Real Madrid\n",
      "334      Alaba         95%  Real Madrid\n",
      "335     Modric         80%  Real Madrid\n",
      "336   Valverde         20%  Real Madrid\n",
      "337       Bale         70%  Real Madrid\n",
      "338    Rodrygo         20%  Real Madrid\n",
      "339    Asensio         10%  Real Madrid\n",
      "340    Marcelo         10%  Real Madrid\n"
     ]
    }
   ],
   "source": [
    "#Sacamos los titulares de un equipo, por ejemplo el Alavés:\n",
    "print(df_ff.get(df_ff['Equipo']=='Real Madrid'))"
   ]
  },
  {
   "cell_type": "code",
   "execution_count": null,
   "id": "181e07af",
   "metadata": {},
   "outputs": [],
   "source": []
  }
 ],
 "metadata": {
  "kernelspec": {
   "display_name": "Python 3",
   "language": "python",
   "name": "python3"
  },
  "language_info": {
   "codemirror_mode": {
    "name": "ipython",
    "version": 3
   },
   "file_extension": ".py",
   "mimetype": "text/x-python",
   "name": "python",
   "nbconvert_exporter": "python",
   "pygments_lexer": "ipython3",
   "version": "3.8.5"
  }
 },
 "nbformat": 4,
 "nbformat_minor": 5
}
